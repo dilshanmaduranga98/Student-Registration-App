{
  "cells": [
    {
      "cell_type": "markdown",
      "metadata": {
        "id": "view-in-github",
        "colab_type": "text"
      },
      "source": [
        "<a href=\"https://colab.research.google.com/github/dilshanmaduranga98/Student-Registration-App/blob/main/Untitled0.ipynb\" target=\"_parent\"><img src=\"https://colab.research.google.com/assets/colab-badge.svg\" alt=\"Open In Colab\"/></a>"
      ]
    },
    {
      "cell_type": "code",
      "execution_count": 2,
      "metadata": {
        "id": "lHpt-5d4jNV1"
      },
      "outputs": [],
      "source": [
        "import numpy as np\n",
        "import pandas as pd\n",
        "from pathlib import Path\n",
        "import os.path\n",
        "import matplotlib.pyplot as plt\n",
        "import tensorflow as tf\n",
        "from tensorflow.keras.preprocessing.image import load_img,img_to_array"
      ]
    },
    {
      "cell_type": "code",
      "execution_count": null,
      "metadata": {
        "id": "fgNBC_sNjOkf"
      },
      "outputs": [],
      "source": [
        "from google.colab import drive\n",
        "drive.mount('/content/drive')"
      ]
    },
    {
      "cell_type": "code",
      "execution_count": 4,
      "metadata": {
        "id": "zwcV3JDnkKXM"
      },
      "outputs": [],
      "source": [
        "train_dir = Path('/content/drive/My Drive/Final Project/Fast food Dataset/Train')\n",
        "train_filepath = list(train_dir.glob(r'**/*.jpeg'))"
      ]
    },
    {
      "cell_type": "code",
      "execution_count": 5,
      "metadata": {
        "id": "k0Y8pt5ql0e1"
      },
      "outputs": [],
      "source": [
        "test_dir = Path('/content/drive/My Drive/Final Project/Fast food Dataset/Test')\n",
        "test_filepath = list(test_dir.glob(r'**/*.jpeg'))"
      ]
    },
    {
      "cell_type": "code",
      "execution_count": 6,
      "metadata": {
        "id": "Wh0Tlh4_gfNs"
      },
      "outputs": [],
      "source": [
        "valid_dir = Path('/content/drive/My Drive/Final Project/Fast food Dataset/Valid')\n",
        "valid_filepath = list(valid_dir.glob(r'**/*.jpeg'))"
      ]
    },
    {
      "cell_type": "code",
      "execution_count": 7,
      "metadata": {
        "id": "lUxk15pkhhVh"
      },
      "outputs": [],
      "source": [
        "def image_processing(filepath):\n",
        "\n",
        "  labels = [str(filepath[i]).split(\"/\")[7]\\\n",
        "            for i in range(len(filepath))]\n",
        "\n",
        "  filepath = pd.Series(filepath, name='Filepath').astype(str)\n",
        "  labels = pd.Series(labels, name='Label')\n",
        "\n",
        "  #concataneta filepath and labels\n",
        "  df = pd.concat([filepath, labels], axis=1)\n",
        "\n",
        "  #shuffle the dataframe and rest indexes\n",
        "  df = df.sample(frac=1).reset_index(drop = True)\n",
        "\n",
        "  return df"
      ]
    },
    {
      "cell_type": "code",
      "execution_count": 8,
      "metadata": {
        "id": "VxFo4wNLkeeo"
      },
      "outputs": [],
      "source": [
        "train_df = image_processing(train_filepath)\n",
        "test_df = image_processing(test_filepath)\n",
        "valid_df = image_processing(valid_filepath)"
      ]
    },
    {
      "cell_type": "code",
      "execution_count": 55,
      "metadata": {
        "colab": {
          "base_uri": "https://localhost:8080/"
        },
        "id": "t_YkzfAFlFiN",
        "outputId": "340c1fd6-bb2c-4f52-e0bb-9430c7674ba1"
      },
      "outputs": [
        {
          "output_type": "stream",
          "name": "stdout",
          "text": [
            "--- Traing set --- \n",
            "\n",
            "1. No of images : 8808\n",
            "\n",
            "2. No of Different labels: 6\n",
            "\n",
            "3. Labels: ['Hot Dog' 'Pizza' 'Donut' 'Crispy Chicken' 'Taco' 'Burger']\n",
            "************************************************** \n",
            "\n",
            "************************************************** \n",
            "\n",
            "--- Test set --- \n",
            "\n",
            "1. No of images : 1010\n",
            "\n",
            "2. No of Different labels: 6\n",
            "\n",
            "3. Labels: ['Donut' 'Pizza' 'Burger' 'Hot Dog' 'Taco' 'Crispy Chicken']\n",
            "************************************************** \n",
            "\n",
            "************************************************** \n",
            "\n",
            "--- Validation set --- \n",
            "\n",
            "1. No of images : 2000\n",
            "\n",
            "2. No of Different labels: 6\n",
            "\n",
            "3. Labels: ['Crispy Chicken' 'Taco' 'Donut' 'Pizza' 'Hot Dog' 'Burger']\n"
          ]
        }
      ],
      "source": [
        "print('--- Traing set --- \\n')\n",
        "print(f'1. No of images : {train_df.shape[0]}\\n')\n",
        "print(f'2. No of Different labels: {len(train_df.Label.unique())}\\n')\n",
        "print(f'3. Labels: {train_df.Label.unique()}')\n",
        "\n",
        "print('************************************************** \\n')\n",
        "print('************************************************** \\n')\n",
        "\n",
        "print('--- Test set --- \\n')\n",
        "print(f'1. No of images : {test_df.shape[0]}\\n')\n",
        "print(f'2. No of Different labels: {len(test_df.Label.unique())}\\n')\n",
        "print(f'3. Labels: {test_df.Label.unique()}')\n",
        "\n",
        "print('************************************************** \\n')\n",
        "print('************************************************** \\n')\n",
        "\n",
        "print('--- Validation set --- \\n')\n",
        "print(f'1. No of images : {valid_df.shape[0]}\\n')\n",
        "print(f'2. No of Different labels: {len(valid_df.Label.unique())}\\n')\n",
        "print(f'3. Labels: {valid_df.Label.unique()}')"
      ]
    },
    {
      "cell_type": "code",
      "execution_count": null,
      "metadata": {
        "id": "tiZ7bgrqmUX5"
      },
      "outputs": [],
      "source": [
        "valid_df.head(10)"
      ]
    },
    {
      "cell_type": "code",
      "execution_count": null,
      "metadata": {
        "id": "paIgPskTPdbv"
      },
      "outputs": [],
      "source": [
        "#create dataframe with one labale with each category\n",
        "df_unique = train_df.copy().drop_duplicates(subset=[\"Label\"]).reset_index()\n",
        "\n",
        "#display picture of the dataset(some)\n",
        "fig, axes = plt.subplots(nrows=2, ncols=3, figsize=(10, 8), subplot_kw={'xticks':[], 'yticks':[]})\n",
        "\n",
        "for i, ax in enumerate(axes.flat):\n",
        "    ax.imshow(plt.imread(df_unique.Filepath[i]))\n",
        "    ax.set_title(df_unique.Label[i], fontsize = 10)\n",
        "plt.tight_layout(pad=0.5)\n",
        "plt.show()"
      ]
    },
    {
      "cell_type": "code",
      "execution_count": 12,
      "metadata": {
        "id": "BzX02OYhtl8q"
      },
      "outputs": [],
      "source": [
        "train_generator = tf.keras.preprocessing.image.ImageDataGenerator(\n",
        "    preprocessing_function = tf.keras.applications.mobilenet_v2.preprocess_input\n",
        ")\n",
        "\n",
        "test_generator = tf.keras.preprocessing.image.ImageDataGenerator(\n",
        "    preprocessing_function = tf.keras.applications.mobilenet_v2.preprocess_input\n",
        ")"
      ]
    },
    {
      "cell_type": "code",
      "execution_count": null,
      "metadata": {
        "id": "reZyMY0RyeB1"
      },
      "outputs": [],
      "source": [
        "train_images = train_generator.flow_from_dataframe(\n",
        "    dataframe=train_df,\n",
        "    x_col='Filepath',\n",
        "    y_col='Label',\n",
        "    traget_size=(224,224),\n",
        "    color_mode='rgb',\n",
        "    class_mode='categorical',\n",
        "    batch_size=32,\n",
        "    shuffle=True,\n",
        "    seed=0,\n",
        "    rotation_range=30,\n",
        "    Zoom_range=0.15,\n",
        "    width_shift_range=0.2,\n",
        "    height_shift_range=0.2,\n",
        "    shear_range=0.15,\n",
        "    horizontal_flip=True,\n",
        "    fill_mode=\"nearest\"\n",
        ")"
      ]
    },
    {
      "cell_type": "code",
      "execution_count": null,
      "metadata": {
        "id": "-pWXHD3Xzjvb"
      },
      "outputs": [],
      "source": [
        "valid_images = train_generator.flow_from_dataframe(\n",
        "    dataframe=valid_df,\n",
        "    x_col='Filepath',\n",
        "    y_col='Label',\n",
        "    traget_size=(224,224),\n",
        "    color_mode='rgb',\n",
        "    class_mode='categorical',\n",
        "    batch_size=32,\n",
        "    shuffle=True,\n",
        "    seed=0,\n",
        "    rotation_range=30,\n",
        "    Zoom_range=0.15,\n",
        "    width_shift_range=0.2,\n",
        "    height_shift_range=0.2,\n",
        "    shear_range=0.15,\n",
        "    horizontal_flip=True,\n",
        "    fill_mode=\"nearest\"\n",
        ")"
      ]
    },
    {
      "cell_type": "code",
      "execution_count": 52,
      "metadata": {
        "colab": {
          "base_uri": "https://localhost:8080/"
        },
        "id": "7rGmcGUvz0vl",
        "outputId": "46e43578-fa7f-4b27-c048-fcaba63155cd"
      },
      "outputs": [
        {
          "output_type": "stream",
          "name": "stdout",
          "text": [
            "Found 1010 validated image filenames belonging to 6 classes.\n"
          ]
        }
      ],
      "source": [
        "test_images = test_generator.flow_from_dataframe(\n",
        "    dataframe=test_df,\n",
        "    x_col='Filepath',\n",
        "    y_col='Label',\n",
        "    traget_size=(224,224),\n",
        "    color_mode='rgb',\n",
        "    class_mode='categorical',\n",
        "    batch_size=32,\n",
        "    shuffle=True,\n",
        "    seed=0,\n",
        "    rotation_range=30,\n",
        "    Zoom_range=0.15,\n",
        "    width_shift_range=0.2,\n",
        "    height_shift_range=0.2,\n",
        "    shear_range=0.15,\n",
        "    horizontal_flip=True,\n",
        "    fill_mode=\"nearest\"\n",
        ")"
      ]
    },
    {
      "cell_type": "code",
      "execution_count": null,
      "metadata": {
        "id": "HEg7Lel9z9mV"
      },
      "outputs": [],
      "source": [
        "pretrained_model = tf.keras.applications.MobileNetV2(\n",
        "    input_shape=(224, 224, 3),\n",
        "    include_top=False,\n",
        "    weights='imagenet',\n",
        "    pooling='avg'\n",
        ")\n",
        "\n",
        "pretrained_model.trainable = False"
      ]
    },
    {
      "cell_type": "code",
      "execution_count": null,
      "metadata": {
        "id": "4Ysw2TLB0aNx"
      },
      "outputs": [],
      "source": [
        "inputs = pretrained_model.input\n",
        "x = tf.keras.layers.Dense(128, activation='relu')(pretrained_model.output)\n",
        "x = tf.keras.layers.Dense(128, activation='relu')(x)\n",
        "\n",
        "outputs = tf.keras.layers.Dense(6, activation='softmax')(x)\n",
        "\n",
        "model = tf.keras.Model(inputs=inputs, outputs=outputs)\n",
        "\n",
        "model.compile(\n",
        "    optimizer='adam',\n",
        "    loss='categorical_crossentropy',\n",
        "    metrics=['accuracy']\n",
        ")\n",
        "\n",
        "history = model.fit(\n",
        "    train_images,\n",
        "    validation_data=valid_images,\n",
        "    batch_size = 32,\n",
        "    epochs=5,\n",
        "    callbacks=[\n",
        "        tf.keras.callbacks.EarlyStopping(\n",
        "            monitor='val_loss',\n",
        "            patience=4,\n",
        "            restore_best_weights=True\n",
        "        )\n",
        "    ]\n",
        ")"
      ]
    },
    {
      "cell_type": "code",
      "source": [
        "history_df = pd.DataFrame(history.history)\n",
        "print(history_df[['accuracy', 'val_accuracy', 'loss', 'val_loss']] )\n",
        "\n",
        "\n",
        "plt.figure(figsize=(12, 5))\n",
        "plt.subplot(1, 2, 1)\n",
        "plt.plot(history.history['accuracy'], label='training accuracy')\n",
        "plt.plot(history.history['val_accuracy'], label='validation accuracy')\n",
        "plt.xlabel('Epoch')\n",
        "plt.ylabel('Accuracy')\n",
        "plt.legend()\n",
        "\n",
        "\n",
        "plt.subplot(1, 2, 2)\n",
        "plt.plot(history.history['loss'], label='training loss')\n",
        "plt.plot(history.history['val_loss'], label='validation loss')\n",
        "plt.xlabel('Epoch')\n",
        "plt.ylabel('Loss')\n",
        "plt.legend()\n",
        "\n",
        "plt.tight_layout()\n",
        "plt.show()"
      ],
      "metadata": {
        "colab": {
          "base_uri": "https://localhost:8080/",
          "height": 610
        },
        "id": "cprOGhVR6wxV",
        "outputId": "a03887fb-4656-4215-e501-47d0671d217e"
      },
      "execution_count": 68,
      "outputs": [
        {
          "output_type": "stream",
          "name": "stdout",
          "text": [
            "   accuracy  val_accuracy      loss  val_loss\n",
            "0  0.830722        0.8470  0.506528  0.496615\n",
            "1  0.899977        0.8420  0.307248  0.504990\n",
            "2  0.921776        0.8450  0.239942  0.511622\n",
            "3  0.939714        0.8510  0.181858  0.515119\n",
            "4  0.953906        0.8555  0.138212  0.483196\n"
          ]
        },
        {
          "output_type": "display_data",
          "data": {
            "text/plain": [
              "<Figure size 1200x500 with 2 Axes>"
            ],
            "image/png": "[encoded data removed]"
          },
          "metadata": {}
        }
      ]
    },
    {
      "cell_type": "code",
      "source": [
        "#predict the label of test image\n",
        "pred = model.predict(test_images)\n",
        "pred = np.argmax(pred,axis=1)\n",
        "\n",
        "#map the model\n",
        "labels = (train_images.class_indices)\n",
        "labels = dict((v,k) for k,v in labels.items())\n",
        "pred1 = [labels[k] for k in pred]\n",
        "pred1\n"
      ],
      "metadata": {
        "id": "rskR2JtO7GVB"
      },
      "execution_count": null,
      "outputs": []
    },
    {
      "cell_type": "code",
      "source": [
        "def output(location):\n",
        "    img = load_img(location, target_size = (224,224,3))\n",
        "    img = img_to_array(img)\n",
        "    img = img/255\n",
        "    img = np.expand_dims(img,[0])\n",
        "    answer = model.predict(img)\n",
        "    y_class = answer.argmax(axis=-1)\n",
        "    y = \" \".join(str(x) for x in y_class)\n",
        "    y = int(y)\n",
        "    res = labels[y]\n",
        "    return res"
      ],
      "metadata": {
        "id": "tbF2Izhk8Dv2"
      },
      "execution_count": 20,
      "outputs": []
    },
    {
      "cell_type": "code",
      "source": [
        "img  = output('/content/Pizza.jpg')\n",
        "img"
      ],
      "metadata": {
        "id": "AvTsNr7h_bAW"
      },
      "execution_count": null,
      "outputs": []
    },
    {
      "cell_type": "code",
      "source": [
        "model.save('FV.h5')"
      ],
      "metadata": {
        "id": "B-YSIds9AQpe"
      },
      "execution_count": null,
      "outputs": []
    }
  ],
  "metadata": {
    "colab": {
      "provenance": [],
      "authorship_tag": "ABX9TyMkE9wcmhwe97JHl7+LI2V4",
      "include_colab_link": true
    },
    "kernelspec": {
      "display_name": "Python 3",
      "name": "python3"
    },
    "language_info": {
      "name": "python"
    }
  },
  "nbformat": 4,
  "nbformat_minor": 0
}